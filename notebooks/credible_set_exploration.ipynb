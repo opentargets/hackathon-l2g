{
 "cells": [
  {
   "cell_type": "code",
   "execution_count": null,
   "id": "d80ce9a9",
   "metadata": {},
   "outputs": [],
   "source": [
    "import pandas as pd\n",
    "import os"
   ]
  },
  {
   "cell_type": "code",
   "execution_count": null,
   "id": "caad6574",
   "metadata": {
    "lines_to_next_cell": 0
   },
   "outputs": [],
   "source": [
    "feature_matrix_train = pd.read_parquet(\"data/train.parquet\")\n",
    "feature_matrix_test = pd.read_parquet(\"data/test.parquet\")\n",
    "feature_matrix = pd.concat([feature_matrix_train, feature_matrix_test])"
   ]
  },
  {
   "cell_type": "code",
   "execution_count": null,
   "id": "a908c228",
   "metadata": {
    "lines_to_next_cell": 0
   },
   "outputs": [],
   "source": [
    "feature_matrix.goldStandardSet.value_counts()\n",
    "'''\n",
    "goldStandardSet\n",
    "0    123630\n",
    "1      8459\n",
    "'''"
   ]
  },
  {
   "cell_type": "code",
   "execution_count": null,
   "id": "3d998e9b",
   "metadata": {},
   "outputs": [],
   "source": [
    "feature_matrix.describe().credibleSetConfidence\n",
    "'''\n",
    "count    132089.000000\n",
    "mean          0.601117\n",
    "std           0.248110\n",
    "min           0.000000\n",
    "25%           0.250000\n",
    "50%           0.750000\n",
    "75%           0.750000\n",
    "max           1.000000\n",
    "'''"
   ]
  }
 ],
 "metadata": {
  "jupytext": {
   "cell_metadata_filter": "-all",
   "main_language": "python",
   "notebook_metadata_filter": "-all"
  }
 },
 "nbformat": 4,
 "nbformat_minor": 5
}
