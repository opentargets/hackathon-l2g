{
 "cells": [
  {
   "cell_type": "markdown",
   "id": "41a9a723-f91d-47e0-bbfd-8e57d9514a3c",
   "metadata": {},
   "source": [
    "# Learning to rank"
   ]
  },
  {
   "cell_type": "code",
   "execution_count": 1,
   "id": "152f3683-7393-4fa6-aa49-6ebd1021fd63",
   "metadata": {},
   "outputs": [],
   "source": [
    "import pandas as pd \n",
    "import numpy as np\n",
    "import logging\n",
    "import skops.io as sio\n",
    "\n",
    "from sklearn.metrics import (\n",
    "    precision_score,\n",
    ")\n",
    "import xgboost as xgb"
   ]
  },
  {
   "cell_type": "code",
   "execution_count": 2,
   "id": "0bc3b5b5-c30d-473b-b6a5-515876d0e57b",
   "metadata": {},
   "outputs": [],
   "source": [
    "trainval = pd.read_parquet(\"/Users/limdi/Downloads/train.parquet\")\n",
    "test = pd.read_parquet(\"/Users/limdi/Downloads/test.parquet\")\n",
    "\n",
    "GROUPCOL = \"studyLocusId\"\n",
    "TARGET = \"goldStandardSet\"\n",
    "FEATURES = [col for col in trainval.columns if \"Neighbourhood\" not in col]\n",
    "FEATURES = sorted(list(set(FEATURES) - set([\"studyLocusId\", \"geneId\", TARGET])))"
   ]
  },
  {
   "cell_type": "code",
   "execution_count": 3,
   "id": "b3f3f839-a0b9-44ab-8cad-18867effa3c4",
   "metadata": {},
   "outputs": [],
   "source": [
    "def process_for_l2r(data):\n",
    "    \"\"\"\n",
    "    Function that processes the dataframe for the L2R XGBoost method\n",
    "    \"\"\"\n",
    "    # reorder the data so it is sorted appropriately\n",
    "    data = data.sort_values(by=GROUPCOL).reset_index(drop=True)\n",
    "    X = data[FEATURES]\n",
    "    y = data[TARGET]\n",
    "    group_ids = data[GROUPCOL]\n",
    "    # get list of group sizes\n",
    "    unique_groups, group_counts = np.unique(group_ids, return_counts=True)\n",
    "    group_sizes = group_counts.tolist()\n",
    "\n",
    "    return np.array(X), np.array(y), np.array(group_ids), np.array(group_sizes)"
   ]
  },
  {
   "cell_type": "code",
   "execution_count": 4,
   "id": "c6d9371f-6ab2-40fe-9f5b-44abdea07ac5",
   "metadata": {},
   "outputs": [],
   "source": [
    "def run_model(parameters, train_df, val_df=None, save=False, save_path=None,):\n",
    "    \"\"\"\n",
    "    General purpose model that trains and validates the model \n",
    "    \"\"\"\n",
    "    print(\"Processing input dataframes.....\")\n",
    "    X_train, y_train, g_train, gsize_train = process_for_l2r(train_df)\n",
    "    # creating the XGBoost Dmatrix\n",
    "    dtrain = xgb.DMatrix(X_train, label=y_train)\n",
    "    dtrain.set_group(gsize_train)\n",
    "    \n",
    "    if val_df is not None:\n",
    "        X_val, y_val, g_val, gsize_val = process_for_l2r(val_df)\n",
    "        dval = xgb.DMatrix(X_val, label=y_val)\n",
    "        dval.set_group(gsize_val)\n",
    "\n",
    "    print(\"Training the model.....\")\n",
    "    # train\n",
    "    model = xgb.train(\n",
    "        parameters,\n",
    "        dtrain,\n",
    "        num_boost_round=150,\n",
    "        # evals=[(dval, \"val\")],\n",
    "        # early_stopping_rounds=20,\n",
    "        verbose_eval=False,\n",
    "    )\n",
    "\n",
    "    if save:\n",
    "        if save_path is None:\n",
    "            raise ValueError(\"Please provide a save path\")\n",
    "        print(\"Saving the model.....\")\n",
    "        sio.dump(model, save_path)\n",
    "\n",
    "    if val_df is not None:\n",
    "        print(\"Predicting using trained model.....\")\n",
    "        # predict and evaluate\n",
    "        y_pred = model.predict(dval)\n",
    "    \n",
    "        # compute metrics\n",
    "        val_ndcg = model.best_score if hasattr(model, \"best_score\") else np.nan\n",
    "\n",
    "        print(\"Converting predictions to top1 per credible set.....\")\n",
    "        # convert predictions to top1 per group\n",
    "        y_pred_top1 = np.zeros_like(y_pred)\n",
    "        for gid in np.unique(g_val):\n",
    "            mask = g_val == gid\n",
    "            if np.any(mask):\n",
    "                top_idx = np.argmax(y_pred[mask])\n",
    "                y_pred_top1[np.where(mask)[0][top_idx]] = 1\n",
    "        \n",
    "        # apply threshold\n",
    "        precision = precision_score(y_val, y_pred_top1)\n",
    "\n",
    "        print(\"Complete!\")\n",
    "        return {\"val_precision_top1\": precision,}"
   ]
  },
  {
   "cell_type": "code",
   "execution_count": 5,
   "id": "ac587c7e-1e1a-45cb-9d63-51d8b7a2b386",
   "metadata": {},
   "outputs": [],
   "source": [
    "base_params = {\n",
    "    \"objective\": \"rank:map\",\n",
    "    \"eval_metric\": \"map\",\n",
    "    \"tree_method\": \"hist\",\n",
    "    \"verbosity\": 0,\n",
    "}\n",
    "best_params = {    \n",
    "    \"eta\": 0.125,\n",
    "    \"max_depth\": 5,\n",
    "    \"subsample\": 0.8,\n",
    "    \"colsample_bytree\": 0.8,\n",
    "    \"reg_alpha\": 1,\n",
    "    \"reg_lambda\": 1,\n",
    "    \"min_child_weight\": 5}\n",
    "\n",
    "best_params = {**base_params, **best_params}"
   ]
  },
  {
   "cell_type": "code",
   "execution_count": 6,
   "id": "14dc6187-07e3-4b66-8971-22c024da55d7",
   "metadata": {},
   "outputs": [
    {
     "name": "stdout",
     "output_type": "stream",
     "text": [
      "Processing input dataframes.....\n",
      "Training the model.....\n",
      "Saving the model.....\n",
      "Predicting using trained model.....\n",
      "Converting predictions to top1 per credible set.....\n",
      "Complete!\n",
      "{'val_precision_top1': 0.7904929577464789}\n"
     ]
    }
   ],
   "source": [
    "model_results = run_model(parameters = best_params, train_df=trainval, val_df=test, save=True, save_path=\"L2G-L2R_best_model.skops\")\n",
    "print(model_results)"
   ]
  },
  {
   "cell_type": "code",
   "execution_count": null,
   "id": "a9bec226-e2af-45a8-9684-e295b9aec2bb",
   "metadata": {},
   "outputs": [],
   "source": []
  }
 ],
 "metadata": {
  "kernelspec": {
   "display_name": "torch_env",
   "language": "python",
   "name": "torch_env"
  },
  "language_info": {
   "codemirror_mode": {
    "name": "ipython",
    "version": 3
   },
   "file_extension": ".py",
   "mimetype": "text/x-python",
   "name": "python",
   "nbconvert_exporter": "python",
   "pygments_lexer": "ipython3",
   "version": "3.13.5"
  }
 },
 "nbformat": 4,
 "nbformat_minor": 5
}
